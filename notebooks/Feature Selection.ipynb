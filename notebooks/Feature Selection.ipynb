{
 "cells": [
  {
   "cell_type": "code",
   "execution_count": 1,
   "metadata": {},
   "outputs": [],
   "source": [
    "import numpy as np\n",
    "import pandas as pd\n",
    "import matplotlib\n",
    "import matplotlib.pyplot as plt\n",
    "import seaborn as sns\n",
    "from sklearn.preprocessing import MinMaxScaler, StandardScaler\n",
    "from sklearn.model_selection import train_test_split\n",
    "from sklearn.feature_selection import SelectKBest, f_classif, chi2, mutual_info_classif\n",
    "from boruta import BorutaPy\n",
    "\n",
    "from sklearn.pipeline import make_pipeline\n",
    "from sklearn.ensemble import RandomForestClassifier\n",
    "from sklearn.neighbors import KNeighborsClassifier\n",
    "from sklearn.svm import LinearSVC\n",
    "from sklearn.tree import DecisionTreeClassifier\n",
    "\n",
    "from sklearn.metrics import classification_report, accuracy_score, plot_confusion_matrix, plot_precision_recall_curve"
   ]
  },
  {
   "cell_type": "code",
   "execution_count": 2,
   "metadata": {},
   "outputs": [],
   "source": [
    "matplotlib.rcParams.update(_VSCode_defaultMatplotlib_Params)\n",
    "plt.style.use('seaborn-bright')\n",
    "plt.rcParams.update({'font.size': 18})"
   ]
  },
  {
   "cell_type": "code",
   "execution_count": 3,
   "metadata": {},
   "outputs": [],
   "source": [
    "from sklearn import set_config\n",
    "\n",
    "set_config(display=\"diagram\")"
   ]
  },
  {
   "cell_type": "code",
   "execution_count": 4,
   "metadata": {},
   "outputs": [
    {
     "name": "stdout",
     "output_type": "stream",
     "text": [
      "(3000, 9) (3000,)\n"
     ]
    }
   ],
   "source": [
    "X = pd.read_csv(\"../data/processed/x.csv\")\n",
    "y = pd.read_csv(\"../data/processed/y.csv\")\n",
    "y = y.values.ravel()\n",
    "\n",
    "print(X.shape, y.shape)"
   ]
  },
  {
   "cell_type": "code",
   "execution_count": 5,
   "metadata": {},
   "outputs": [
    {
     "data": {
      "text/html": [
       "<div>\n",
       "<style scoped>\n",
       "    .dataframe tbody tr th:only-of-type {\n",
       "        vertical-align: middle;\n",
       "    }\n",
       "\n",
       "    .dataframe tbody tr th {\n",
       "        vertical-align: top;\n",
       "    }\n",
       "\n",
       "    .dataframe thead th {\n",
       "        text-align: right;\n",
       "    }\n",
       "</style>\n",
       "<table border=\"1\" class=\"dataframe\">\n",
       "  <thead>\n",
       "    <tr style=\"text-align: right;\">\n",
       "      <th></th>\n",
       "      <th>Duration(sec)</th>\n",
       "      <th>Paket Loss Rate(Reliability)</th>\n",
       "      <th>Packet Delay Budget(Latency(ms))</th>\n",
       "      <th>Bandwidth(GHz)</th>\n",
       "      <th>Delay Rate(Mbps)</th>\n",
       "      <th>Speed(Mbps)</th>\n",
       "      <th>Jitter(ps)</th>\n",
       "      <th>User Device Type</th>\n",
       "      <th>Modulation Type</th>\n",
       "    </tr>\n",
       "  </thead>\n",
       "  <tbody>\n",
       "    <tr>\n",
       "      <th>0</th>\n",
       "      <td>1.000000</td>\n",
       "      <td>1.000000</td>\n",
       "      <td>1.000000</td>\n",
       "      <td>0.032258</td>\n",
       "      <td>1.000000</td>\n",
       "      <td>0.349610</td>\n",
       "      <td>0.510791</td>\n",
       "      <td>8</td>\n",
       "      <td>0</td>\n",
       "    </tr>\n",
       "    <tr>\n",
       "      <th>1</th>\n",
       "      <td>0.074074</td>\n",
       "      <td>1.000000</td>\n",
       "      <td>0.122449</td>\n",
       "      <td>0.290323</td>\n",
       "      <td>0.081395</td>\n",
       "      <td>0.880298</td>\n",
       "      <td>0.539568</td>\n",
       "      <td>8</td>\n",
       "      <td>0</td>\n",
       "    </tr>\n",
       "    <tr>\n",
       "      <th>2</th>\n",
       "      <td>0.333333</td>\n",
       "      <td>0.000900</td>\n",
       "      <td>0.918367</td>\n",
       "      <td>0.290323</td>\n",
       "      <td>0.034884</td>\n",
       "      <td>0.939301</td>\n",
       "      <td>0.827338</td>\n",
       "      <td>8</td>\n",
       "      <td>0</td>\n",
       "    </tr>\n",
       "    <tr>\n",
       "      <th>3</th>\n",
       "      <td>0.111111</td>\n",
       "      <td>0.009901</td>\n",
       "      <td>0.224490</td>\n",
       "      <td>0.677419</td>\n",
       "      <td>0.034884</td>\n",
       "      <td>0.275687</td>\n",
       "      <td>1.000000</td>\n",
       "      <td>8</td>\n",
       "      <td>0</td>\n",
       "    </tr>\n",
       "    <tr>\n",
       "      <th>4</th>\n",
       "      <td>0.000000</td>\n",
       "      <td>0.000000</td>\n",
       "      <td>0.979592</td>\n",
       "      <td>1.000000</td>\n",
       "      <td>0.081395</td>\n",
       "      <td>0.642252</td>\n",
       "      <td>0.366906</td>\n",
       "      <td>8</td>\n",
       "      <td>0</td>\n",
       "    </tr>\n",
       "    <tr>\n",
       "      <th>...</th>\n",
       "      <td>...</td>\n",
       "      <td>...</td>\n",
       "      <td>...</td>\n",
       "      <td>...</td>\n",
       "      <td>...</td>\n",
       "      <td>...</td>\n",
       "      <td>...</td>\n",
       "      <td>...</td>\n",
       "      <td>...</td>\n",
       "    </tr>\n",
       "    <tr>\n",
       "      <th>2995</th>\n",
       "      <td>0.222222</td>\n",
       "      <td>1.000000</td>\n",
       "      <td>0.795918</td>\n",
       "      <td>0.290323</td>\n",
       "      <td>0.081395</td>\n",
       "      <td>0.483215</td>\n",
       "      <td>1.000000</td>\n",
       "      <td>1</td>\n",
       "      <td>1</td>\n",
       "    </tr>\n",
       "    <tr>\n",
       "      <th>2996</th>\n",
       "      <td>0.074074</td>\n",
       "      <td>0.000900</td>\n",
       "      <td>0.551020</td>\n",
       "      <td>0.000000</td>\n",
       "      <td>0.000000</td>\n",
       "      <td>0.156324</td>\n",
       "      <td>0.035971</td>\n",
       "      <td>1</td>\n",
       "      <td>1</td>\n",
       "    </tr>\n",
       "    <tr>\n",
       "      <th>2997</th>\n",
       "      <td>0.222222</td>\n",
       "      <td>0.000000</td>\n",
       "      <td>0.489796</td>\n",
       "      <td>0.000000</td>\n",
       "      <td>0.000000</td>\n",
       "      <td>0.576806</td>\n",
       "      <td>0.827338</td>\n",
       "      <td>1</td>\n",
       "      <td>1</td>\n",
       "    </tr>\n",
       "    <tr>\n",
       "      <th>2998</th>\n",
       "      <td>0.444444</td>\n",
       "      <td>0.099910</td>\n",
       "      <td>0.387755</td>\n",
       "      <td>0.516129</td>\n",
       "      <td>0.000000</td>\n",
       "      <td>0.136317</td>\n",
       "      <td>0.539568</td>\n",
       "      <td>1</td>\n",
       "      <td>1</td>\n",
       "    </tr>\n",
       "    <tr>\n",
       "      <th>2999</th>\n",
       "      <td>1.000000</td>\n",
       "      <td>0.000900</td>\n",
       "      <td>0.795918</td>\n",
       "      <td>0.290323</td>\n",
       "      <td>0.034884</td>\n",
       "      <td>0.590370</td>\n",
       "      <td>0.510791</td>\n",
       "      <td>1</td>\n",
       "      <td>1</td>\n",
       "    </tr>\n",
       "  </tbody>\n",
       "</table>\n",
       "<p>3000 rows × 9 columns</p>\n",
       "</div>"
      ],
      "text/plain": [
       "      Duration(sec)  Paket Loss Rate(Reliability)  \\\n",
       "0          1.000000                      1.000000   \n",
       "1          0.074074                      1.000000   \n",
       "2          0.333333                      0.000900   \n",
       "3          0.111111                      0.009901   \n",
       "4          0.000000                      0.000000   \n",
       "...             ...                           ...   \n",
       "2995       0.222222                      1.000000   \n",
       "2996       0.074074                      0.000900   \n",
       "2997       0.222222                      0.000000   \n",
       "2998       0.444444                      0.099910   \n",
       "2999       1.000000                      0.000900   \n",
       "\n",
       "      Packet Delay Budget(Latency(ms))  Bandwidth(GHz)  Delay Rate(Mbps)  \\\n",
       "0                             1.000000        0.032258          1.000000   \n",
       "1                             0.122449        0.290323          0.081395   \n",
       "2                             0.918367        0.290323          0.034884   \n",
       "3                             0.224490        0.677419          0.034884   \n",
       "4                             0.979592        1.000000          0.081395   \n",
       "...                                ...             ...               ...   \n",
       "2995                          0.795918        0.290323          0.081395   \n",
       "2996                          0.551020        0.000000          0.000000   \n",
       "2997                          0.489796        0.000000          0.000000   \n",
       "2998                          0.387755        0.516129          0.000000   \n",
       "2999                          0.795918        0.290323          0.034884   \n",
       "\n",
       "      Speed(Mbps)  Jitter(ps)  User Device Type  Modulation Type  \n",
       "0        0.349610    0.510791                 8                0  \n",
       "1        0.880298    0.539568                 8                0  \n",
       "2        0.939301    0.827338                 8                0  \n",
       "3        0.275687    1.000000                 8                0  \n",
       "4        0.642252    0.366906                 8                0  \n",
       "...           ...         ...               ...              ...  \n",
       "2995     0.483215    1.000000                 1                1  \n",
       "2996     0.156324    0.035971                 1                1  \n",
       "2997     0.576806    0.827338                 1                1  \n",
       "2998     0.136317    0.539568                 1                1  \n",
       "2999     0.590370    0.510791                 1                1  \n",
       "\n",
       "[3000 rows x 9 columns]"
      ]
     },
     "execution_count": 5,
     "metadata": {},
     "output_type": "execute_result"
    }
   ],
   "source": [
    "X"
   ]
  },
  {
   "cell_type": "code",
   "execution_count": 6,
   "metadata": {},
   "outputs": [
    {
     "data": {
      "text/html": [
       "<div>\n",
       "<style scoped>\n",
       "    .dataframe tbody tr th:only-of-type {\n",
       "        vertical-align: middle;\n",
       "    }\n",
       "\n",
       "    .dataframe tbody tr th {\n",
       "        vertical-align: top;\n",
       "    }\n",
       "\n",
       "    .dataframe thead th {\n",
       "        text-align: right;\n",
       "    }\n",
       "</style>\n",
       "<table border=\"1\" class=\"dataframe\">\n",
       "  <thead>\n",
       "    <tr style=\"text-align: right;\">\n",
       "      <th></th>\n",
       "      <th>Duration(sec)</th>\n",
       "      <th>Paket Loss Rate(Reliability)</th>\n",
       "      <th>Packet Delay Budget(Latency(ms))</th>\n",
       "      <th>Bandwidth(GHz)</th>\n",
       "      <th>Delay Rate(Mbps)</th>\n",
       "      <th>Speed(Mbps)</th>\n",
       "      <th>Jitter(ps)</th>\n",
       "    </tr>\n",
       "  </thead>\n",
       "  <tbody>\n",
       "    <tr>\n",
       "      <th>0</th>\n",
       "      <td>1.000000</td>\n",
       "      <td>1.000000</td>\n",
       "      <td>1.000000</td>\n",
       "      <td>0.032258</td>\n",
       "      <td>1.000000</td>\n",
       "      <td>0.349610</td>\n",
       "      <td>0.510791</td>\n",
       "    </tr>\n",
       "    <tr>\n",
       "      <th>1</th>\n",
       "      <td>0.074074</td>\n",
       "      <td>1.000000</td>\n",
       "      <td>0.122449</td>\n",
       "      <td>0.290323</td>\n",
       "      <td>0.081395</td>\n",
       "      <td>0.880298</td>\n",
       "      <td>0.539568</td>\n",
       "    </tr>\n",
       "    <tr>\n",
       "      <th>2</th>\n",
       "      <td>0.333333</td>\n",
       "      <td>0.000900</td>\n",
       "      <td>0.918367</td>\n",
       "      <td>0.290323</td>\n",
       "      <td>0.034884</td>\n",
       "      <td>0.939301</td>\n",
       "      <td>0.827338</td>\n",
       "    </tr>\n",
       "    <tr>\n",
       "      <th>3</th>\n",
       "      <td>0.111111</td>\n",
       "      <td>0.009901</td>\n",
       "      <td>0.224490</td>\n",
       "      <td>0.677419</td>\n",
       "      <td>0.034884</td>\n",
       "      <td>0.275687</td>\n",
       "      <td>1.000000</td>\n",
       "    </tr>\n",
       "    <tr>\n",
       "      <th>4</th>\n",
       "      <td>0.000000</td>\n",
       "      <td>0.000000</td>\n",
       "      <td>0.979592</td>\n",
       "      <td>1.000000</td>\n",
       "      <td>0.081395</td>\n",
       "      <td>0.642252</td>\n",
       "      <td>0.366906</td>\n",
       "    </tr>\n",
       "    <tr>\n",
       "      <th>...</th>\n",
       "      <td>...</td>\n",
       "      <td>...</td>\n",
       "      <td>...</td>\n",
       "      <td>...</td>\n",
       "      <td>...</td>\n",
       "      <td>...</td>\n",
       "      <td>...</td>\n",
       "    </tr>\n",
       "    <tr>\n",
       "      <th>2995</th>\n",
       "      <td>0.222222</td>\n",
       "      <td>1.000000</td>\n",
       "      <td>0.795918</td>\n",
       "      <td>0.290323</td>\n",
       "      <td>0.081395</td>\n",
       "      <td>0.483215</td>\n",
       "      <td>1.000000</td>\n",
       "    </tr>\n",
       "    <tr>\n",
       "      <th>2996</th>\n",
       "      <td>0.074074</td>\n",
       "      <td>0.000900</td>\n",
       "      <td>0.551020</td>\n",
       "      <td>0.000000</td>\n",
       "      <td>0.000000</td>\n",
       "      <td>0.156324</td>\n",
       "      <td>0.035971</td>\n",
       "    </tr>\n",
       "    <tr>\n",
       "      <th>2997</th>\n",
       "      <td>0.222222</td>\n",
       "      <td>0.000000</td>\n",
       "      <td>0.489796</td>\n",
       "      <td>0.000000</td>\n",
       "      <td>0.000000</td>\n",
       "      <td>0.576806</td>\n",
       "      <td>0.827338</td>\n",
       "    </tr>\n",
       "    <tr>\n",
       "      <th>2998</th>\n",
       "      <td>0.444444</td>\n",
       "      <td>0.099910</td>\n",
       "      <td>0.387755</td>\n",
       "      <td>0.516129</td>\n",
       "      <td>0.000000</td>\n",
       "      <td>0.136317</td>\n",
       "      <td>0.539568</td>\n",
       "    </tr>\n",
       "    <tr>\n",
       "      <th>2999</th>\n",
       "      <td>1.000000</td>\n",
       "      <td>0.000900</td>\n",
       "      <td>0.795918</td>\n",
       "      <td>0.290323</td>\n",
       "      <td>0.034884</td>\n",
       "      <td>0.590370</td>\n",
       "      <td>0.510791</td>\n",
       "    </tr>\n",
       "  </tbody>\n",
       "</table>\n",
       "<p>3000 rows × 7 columns</p>\n",
       "</div>"
      ],
      "text/plain": [
       "      Duration(sec)  Paket Loss Rate(Reliability)  \\\n",
       "0          1.000000                      1.000000   \n",
       "1          0.074074                      1.000000   \n",
       "2          0.333333                      0.000900   \n",
       "3          0.111111                      0.009901   \n",
       "4          0.000000                      0.000000   \n",
       "...             ...                           ...   \n",
       "2995       0.222222                      1.000000   \n",
       "2996       0.074074                      0.000900   \n",
       "2997       0.222222                      0.000000   \n",
       "2998       0.444444                      0.099910   \n",
       "2999       1.000000                      0.000900   \n",
       "\n",
       "      Packet Delay Budget(Latency(ms))  Bandwidth(GHz)  Delay Rate(Mbps)  \\\n",
       "0                             1.000000        0.032258          1.000000   \n",
       "1                             0.122449        0.290323          0.081395   \n",
       "2                             0.918367        0.290323          0.034884   \n",
       "3                             0.224490        0.677419          0.034884   \n",
       "4                             0.979592        1.000000          0.081395   \n",
       "...                                ...             ...               ...   \n",
       "2995                          0.795918        0.290323          0.081395   \n",
       "2996                          0.551020        0.000000          0.000000   \n",
       "2997                          0.489796        0.000000          0.000000   \n",
       "2998                          0.387755        0.516129          0.000000   \n",
       "2999                          0.795918        0.290323          0.034884   \n",
       "\n",
       "      Speed(Mbps)  Jitter(ps)  \n",
       "0        0.349610    0.510791  \n",
       "1        0.880298    0.539568  \n",
       "2        0.939301    0.827338  \n",
       "3        0.275687    1.000000  \n",
       "4        0.642252    0.366906  \n",
       "...           ...         ...  \n",
       "2995     0.483215    1.000000  \n",
       "2996     0.156324    0.035971  \n",
       "2997     0.576806    0.827338  \n",
       "2998     0.136317    0.539568  \n",
       "2999     0.590370    0.510791  \n",
       "\n",
       "[3000 rows x 7 columns]"
      ]
     },
     "execution_count": 6,
     "metadata": {},
     "output_type": "execute_result"
    }
   ],
   "source": [
    "X_numeric_class = X.iloc[:, :-2]\n",
    "X_numeric_class"
   ]
  },
  {
   "cell_type": "code",
   "execution_count": 13,
   "metadata": {},
   "outputs": [
    {
     "data": {
      "text/plain": [
       "array([[ 1.99189264,  1.11951749,  1.47535414, ...,  2.29988467,\n",
       "        -0.53317173,  0.18808943],\n",
       "       [-0.78754415,  1.11951749, -1.67387781, ..., -0.53723272,\n",
       "         1.31529606,  0.27845188],\n",
       "       [-0.00930185, -0.91238875,  1.18240233, ..., -0.68088423,\n",
       "         1.5208126 ,  1.18207634],\n",
       "       ...,\n",
       "       [-0.34283426, -0.9142193 , -0.35559467, ..., -0.78862287,\n",
       "         0.25818508,  1.18207634],\n",
       "       [ 0.32423057, -0.71102867, -0.72178443, ..., -0.78862287,\n",
       "        -1.27610224,  0.27845188],\n",
       "       [ 1.99189264, -0.91238875,  0.74297461, ..., -0.68088423,\n",
       "         0.30543027,  0.18808943]])"
      ]
     },
     "execution_count": 13,
     "metadata": {},
     "output_type": "execute_result"
    }
   ],
   "source": [
    "scaler = StandardScaler()\n",
    "X_data_minmax = scaler.fit_transform(X_numeric_class)\n",
    "X_data_minmax"
   ]
  },
  {
   "cell_type": "markdown",
   "metadata": {},
   "source": [
    "# Baseline Random Forest"
   ]
  },
  {
   "cell_type": "code",
   "execution_count": 84,
   "metadata": {},
   "outputs": [
    {
     "name": "stdout",
     "output_type": "stream",
     "text": [
      "Iteration: \t1 / 100\n",
      "Confirmed: \t0\n",
      "Tentative: \t9\n",
      "Rejected: \t0\n",
      "Iteration: \t2 / 100\n",
      "Confirmed: \t0\n",
      "Tentative: \t9\n",
      "Rejected: \t0\n",
      "Iteration: \t3 / 100\n",
      "Confirmed: \t0\n",
      "Tentative: \t9\n",
      "Rejected: \t0\n",
      "Iteration: \t4 / 100\n",
      "Confirmed: \t0\n",
      "Tentative: \t9\n",
      "Rejected: \t0\n",
      "Iteration: \t5 / 100\n",
      "Confirmed: \t0\n",
      "Tentative: \t9\n",
      "Rejected: \t0\n",
      "Iteration: \t6 / 100\n",
      "Confirmed: \t0\n",
      "Tentative: \t9\n",
      "Rejected: \t0\n",
      "Iteration: \t7 / 100\n",
      "Confirmed: \t0\n",
      "Tentative: \t9\n",
      "Rejected: \t0\n",
      "Iteration: \t8 / 100\n",
      "Confirmed: \t2\n",
      "Tentative: \t0\n",
      "Rejected: \t7\n",
      "\n",
      "\n",
      "BorutaPy finished running.\n",
      "\n",
      "Iteration: \t9 / 100\n",
      "Confirmed: \t2\n",
      "Tentative: \t0\n",
      "Rejected: \t7\n"
     ]
    }
   ],
   "source": [
    "clf = RandomForestClassifier(n_estimators=200, n_jobs=-1, max_depth=5)\n",
    "\n",
    "trans = BorutaPy(clf, random_state=42, verbose=2)\n",
    "trans.fit(X_train, y_train)\n",
    "X_train_fs = trans.transform(X_train)\n",
    "X_test_fs = trans.transform(X_test)"
   ]
  },
  {
   "cell_type": "code",
   "execution_count": 86,
   "metadata": {},
   "outputs": [
    {
     "data": {
      "text/plain": [
       "array([False, False, False, False, False, False, False,  True,  True])"
      ]
     },
     "execution_count": 86,
     "metadata": {},
     "output_type": "execute_result"
    }
   ],
   "source": [
    "trans.support_"
   ]
  },
  {
   "cell_type": "markdown",
   "metadata": {},
   "source": [
    "# ANOVA"
   ]
  },
  {
   "cell_type": "code",
   "execution_count": 14,
   "metadata": {},
   "outputs": [
    {
     "data": {
      "text/plain": [
       "Duration(sec)                       0.638502\n",
       "Paket Loss Rate(Reliability)        0.092658\n",
       "Packet Delay Budget(Latency(ms))    0.491071\n",
       "Bandwidth(GHz)                      0.313648\n",
       "Delay Rate(Mbps)                    0.145061\n",
       "Speed(Mbps)                         0.223775\n",
       "Jitter(ps)                          0.763535\n",
       "dtype: float64"
      ]
     },
     "execution_count": 14,
     "metadata": {},
     "output_type": "execute_result"
    }
   ],
   "source": [
    "F_score, p_value = f_classif(X_data_minmax, y)\n",
    "\n",
    "fi_anova = pd.Series(F_score, index=X_numeric_class.columns)\n",
    "\n",
    "fi_anova"
   ]
  },
  {
   "cell_type": "code",
   "execution_count": 15,
   "metadata": {},
   "outputs": [
    {
     "data": {
      "text/plain": [
       "Jitter(ps)                          0.763535\n",
       "Duration(sec)                       0.638502\n",
       "Packet Delay Budget(Latency(ms))    0.491071\n",
       "Bandwidth(GHz)                      0.313648\n",
       "Speed(Mbps)                         0.223775\n",
       "Delay Rate(Mbps)                    0.145061\n",
       "Paket Loss Rate(Reliability)        0.092658\n",
       "dtype: float64"
      ]
     },
     "execution_count": 15,
     "metadata": {},
     "output_type": "execute_result"
    }
   ],
   "source": [
    "fi_anova = fi_anova.sort_values(ascending=False)\n",
    "fi_anova"
   ]
  },
  {
   "cell_type": "code",
   "execution_count": 16,
   "metadata": {},
   "outputs": [],
   "source": [
    "sns.set_theme(style=\"whitegrid\")\n",
    "sns.set_color_codes(\"pastel\")\n",
    "sns.set(font_scale = 2)"
   ]
  },
  {
   "cell_type": "code",
   "execution_count": 17,
   "metadata": {},
   "outputs": [
    {
     "data": {
      "image/png": "[encoded data removed]",
      "text/plain": [
       "<Figure size 1152x576 with 1 Axes>"
      ]
     },
     "metadata": {},
     "output_type": "display_data"
    }
   ],
   "source": [
    "plt.figure(figsize=(16, 8))\n",
    "\n",
    "sns.barplot(y=fi_anova[:4].index, x=fi_anova[:4], color=\"b\", orient='h')\n",
    "plt.title(label=\"ANOVA F-Score (Top 4 Numerical Features)\",\n",
    "          fontsize=30, fontweight='bold')\n",
    "plt.savefig(\"../plots/ANOVA_5G.png\", dpi=300, bbox_inches='tight')\n",
    "plt.show()"
   ]
  },
  {
   "cell_type": "markdown",
   "metadata": {},
   "source": [
    "# CHI SQUARE"
   ]
  },
  {
   "cell_type": "code",
   "execution_count": 18,
   "metadata": {},
   "outputs": [
    {
     "data": {
      "text/plain": [
       "Duration(sec)                       0.421486\n",
       "Paket Loss Rate(Reliability)        0.099765\n",
       "Packet Delay Budget(Latency(ms))    0.129590\n",
       "Bandwidth(GHz)                      0.140110\n",
       "Delay Rate(Mbps)                    0.119221\n",
       "Speed(Mbps)                         0.073447\n",
       "Jitter(ps)                          0.343648\n",
       "dtype: float64"
      ]
     },
     "execution_count": 18,
     "metadata": {},
     "output_type": "execute_result"
    }
   ],
   "source": [
    "score, p_value = chi2(X_numeric_class, y)\n",
    "\n",
    "fi_chi2 = pd.Series(score, index=X_numeric_class.columns)\n",
    "\n",
    "fi_chi2"
   ]
  },
  {
   "cell_type": "code",
   "execution_count": 19,
   "metadata": {},
   "outputs": [
    {
     "data": {
      "text/plain": [
       "Duration(sec)                       0.421486\n",
       "Jitter(ps)                          0.343648\n",
       "Bandwidth(GHz)                      0.140110\n",
       "Packet Delay Budget(Latency(ms))    0.129590\n",
       "Delay Rate(Mbps)                    0.119221\n",
       "Paket Loss Rate(Reliability)        0.099765\n",
       "Speed(Mbps)                         0.073447\n",
       "dtype: float64"
      ]
     },
     "execution_count": 19,
     "metadata": {},
     "output_type": "execute_result"
    }
   ],
   "source": [
    "fi_chi2 = fi_chi2.sort_values(ascending=False)\n",
    "fi_chi2"
   ]
  },
  {
   "cell_type": "code",
   "execution_count": 20,
   "metadata": {},
   "outputs": [
    {
     "data": {
      "image/png": "[encoded data removed]",
      "text/plain": [
       "<Figure size 1152x576 with 1 Axes>"
      ]
     },
     "metadata": {},
     "output_type": "display_data"
    }
   ],
   "source": [
    "plt.figure(figsize=(16, 8))\n",
    "\n",
    "sns.barplot(y=fi_chi2[:4].index, x=fi_chi2[:4], color=\"b\", orient='h')\n",
    "plt.title(label=\"Chi Squared Score (Top 4 Numerical Features)\",\n",
    "          fontsize=30, fontweight='bold')\n",
    "plt.savefig(\"../plots/CHI_5G.png\", dpi=300, bbox_inches='tight')\n",
    "plt.show()"
   ]
  },
  {
   "cell_type": "markdown",
   "metadata": {},
   "source": [
    "# MUTUAL INFO"
   ]
  },
  {
   "cell_type": "code",
   "execution_count": 21,
   "metadata": {},
   "outputs": [
    {
     "data": {
      "text/plain": [
       "Duration(sec)                       0.006790\n",
       "Paket Loss Rate(Reliability)        0.015301\n",
       "Packet Delay Budget(Latency(ms))    0.000000\n",
       "Bandwidth(GHz)                      0.000000\n",
       "Delay Rate(Mbps)                    0.000000\n",
       "Speed(Mbps)                         0.000000\n",
       "Jitter(ps)                          0.008757\n",
       "dtype: float64"
      ]
     },
     "execution_count": 21,
     "metadata": {},
     "output_type": "execute_result"
    }
   ],
   "source": [
    "importance = mutual_info_classif(X_numeric_class, y)\n",
    "\n",
    "fi_minfo = pd.Series(importance, index=X_numeric_class.columns)\n",
    "\n",
    "fi_minfo"
   ]
  },
  {
   "cell_type": "code",
   "execution_count": 22,
   "metadata": {},
   "outputs": [
    {
     "data": {
      "text/plain": [
       "Paket Loss Rate(Reliability)        0.015301\n",
       "Jitter(ps)                          0.008757\n",
       "Duration(sec)                       0.006790\n",
       "Packet Delay Budget(Latency(ms))    0.000000\n",
       "Bandwidth(GHz)                      0.000000\n",
       "Delay Rate(Mbps)                    0.000000\n",
       "Speed(Mbps)                         0.000000\n",
       "dtype: float64"
      ]
     },
     "execution_count": 22,
     "metadata": {},
     "output_type": "execute_result"
    }
   ],
   "source": [
    "fi_minfo = fi_minfo.sort_values(ascending=False)\n",
    "fi_minfo"
   ]
  },
  {
   "cell_type": "code",
   "execution_count": 23,
   "metadata": {},
   "outputs": [
    {
     "data": {
      "image/png": "[encoded data removed]",
      "text/plain": [
       "<Figure size 1152x576 with 1 Axes>"
      ]
     },
     "metadata": {},
     "output_type": "display_data"
    }
   ],
   "source": [
    "plt.figure(figsize=(16, 8))\n",
    "\n",
    "sns.barplot(y=fi_minfo[:4].index, x=fi_minfo[:4], color=\"b\", orient='h')\n",
    "plt.title(label=\"Mutual Info Score (Top 4 Numerical Features)\",\n",
    "          fontsize=30, fontweight='bold')\n",
    "plt.savefig(\"../plots/MINFO_5G.png\", dpi=300, bbox_inches='tight')\n",
    "plt.show()"
   ]
  },
  {
   "cell_type": "code",
   "execution_count": 51,
   "metadata": {},
   "outputs": [],
   "source": [
    "X_train, X_test, y_train, y_test = train_test_split(X, y, test_size=0.2)"
   ]
  },
  {
   "cell_type": "code",
   "execution_count": 52,
   "metadata": {},
   "outputs": [
    {
     "data": {
      "text/plain": [
       "((2400, 9), (600, 9), (2400,), (600,))"
      ]
     },
     "execution_count": 52,
     "metadata": {},
     "output_type": "execute_result"
    }
   ],
   "source": [
    "X_train.shape, X_test.shape, y_train.shape, y_test.shape"
   ]
  },
  {
   "cell_type": "code",
   "execution_count": null,
   "metadata": {},
   "outputs": [],
   "source": []
  }
 ],
 "metadata": {
  "interpreter": {
   "hash": "7cff4a66223eb3a1677e2732babb99f6c2846795ef4630804004107dbcf7fec0"
  },
  "kernelspec": {
   "display_name": "Python 3.7.11 ('NetSlice')",
   "language": "python",
   "name": "python3"
  },
  "language_info": {
   "codemirror_mode": {
    "name": "ipython",
    "version": 3
   },
   "file_extension": ".py",
   "mimetype": "text/x-python",
   "name": "python",
   "nbconvert_exporter": "python",
   "pygments_lexer": "ipython3",
   "version": "3.7.11"
  },
  "orig_nbformat": 4
 },
 "nbformat": 4,
 "nbformat_minor": 2
}
