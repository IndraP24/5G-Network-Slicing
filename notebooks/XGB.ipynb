{
 "cells": [
  {
   "cell_type": "markdown",
   "metadata": {},
   "source": [
    "# Using XGB - Base and Hyperparameter Tuned"
   ]
  },
  {
   "cell_type": "code",
   "execution_count": 1,
   "metadata": {},
   "outputs": [],
   "source": [
    "import numpy as np\n",
    "import pandas as pd\n",
    "from sklearn.model_selection import train_test_split as tts\n",
    "import matplotlib.pyplot as plt"
   ]
  },
  {
   "cell_type": "markdown",
   "metadata": {},
   "source": [
    "## Load Data"
   ]
  },
  {
   "cell_type": "code",
   "execution_count": 2,
   "metadata": {},
   "outputs": [
    {
     "name": "stdout",
     "output_type": "stream",
     "text": [
      "(3000, 9) (3000, 1)\n"
     ]
    }
   ],
   "source": [
    "x = pd.read_csv('../data/processed/x.csv')\n",
    "y = pd.read_csv('../data/processed/y.csv')\n",
    "print(x.shape, y.shape)"
   ]
  },
  {
   "cell_type": "code",
   "execution_count": 3,
   "metadata": {},
   "outputs": [
    {
     "data": {
      "text/html": [
       "<div>\n",
       "<style scoped>\n",
       "    .dataframe tbody tr th:only-of-type {\n",
       "        vertical-align: middle;\n",
       "    }\n",
       "\n",
       "    .dataframe tbody tr th {\n",
       "        vertical-align: top;\n",
       "    }\n",
       "\n",
       "    .dataframe thead th {\n",
       "        text-align: right;\n",
       "    }\n",
       "</style>\n",
       "<table border=\"1\" class=\"dataframe\">\n",
       "  <thead>\n",
       "    <tr style=\"text-align: right;\">\n",
       "      <th></th>\n",
       "      <th>Duration(sec)</th>\n",
       "      <th>Paket Loss Rate(Reliability)</th>\n",
       "      <th>Packet Delay Budget(Latency(ms))</th>\n",
       "      <th>Bandwidth(GHz)</th>\n",
       "      <th>Delay Rate(Mbps)</th>\n",
       "      <th>Speed(Mbps)</th>\n",
       "      <th>Jitter(ps)</th>\n",
       "      <th>User Device Type</th>\n",
       "      <th>Modulation Type</th>\n",
       "    </tr>\n",
       "  </thead>\n",
       "  <tbody>\n",
       "    <tr>\n",
       "      <th>0</th>\n",
       "      <td>1.000000</td>\n",
       "      <td>1.000000</td>\n",
       "      <td>1.000000</td>\n",
       "      <td>0.032258</td>\n",
       "      <td>1.000000</td>\n",
       "      <td>0.349610</td>\n",
       "      <td>0.510791</td>\n",
       "      <td>8</td>\n",
       "      <td>0</td>\n",
       "    </tr>\n",
       "    <tr>\n",
       "      <th>1</th>\n",
       "      <td>0.074074</td>\n",
       "      <td>1.000000</td>\n",
       "      <td>0.122449</td>\n",
       "      <td>0.290323</td>\n",
       "      <td>0.081395</td>\n",
       "      <td>0.880298</td>\n",
       "      <td>0.539568</td>\n",
       "      <td>8</td>\n",
       "      <td>0</td>\n",
       "    </tr>\n",
       "    <tr>\n",
       "      <th>2</th>\n",
       "      <td>0.333333</td>\n",
       "      <td>0.000900</td>\n",
       "      <td>0.918367</td>\n",
       "      <td>0.290323</td>\n",
       "      <td>0.034884</td>\n",
       "      <td>0.939301</td>\n",
       "      <td>0.827338</td>\n",
       "      <td>8</td>\n",
       "      <td>0</td>\n",
       "    </tr>\n",
       "    <tr>\n",
       "      <th>3</th>\n",
       "      <td>0.111111</td>\n",
       "      <td>0.009901</td>\n",
       "      <td>0.224490</td>\n",
       "      <td>0.677419</td>\n",
       "      <td>0.034884</td>\n",
       "      <td>0.275687</td>\n",
       "      <td>1.000000</td>\n",
       "      <td>8</td>\n",
       "      <td>0</td>\n",
       "    </tr>\n",
       "    <tr>\n",
       "      <th>4</th>\n",
       "      <td>0.000000</td>\n",
       "      <td>0.000000</td>\n",
       "      <td>0.979592</td>\n",
       "      <td>1.000000</td>\n",
       "      <td>0.081395</td>\n",
       "      <td>0.642252</td>\n",
       "      <td>0.366906</td>\n",
       "      <td>8</td>\n",
       "      <td>0</td>\n",
       "    </tr>\n",
       "  </tbody>\n",
       "</table>\n",
       "</div>"
      ],
      "text/plain": [
       "   Duration(sec)  Paket Loss Rate(Reliability)  \\\n",
       "0       1.000000                      1.000000   \n",
       "1       0.074074                      1.000000   \n",
       "2       0.333333                      0.000900   \n",
       "3       0.111111                      0.009901   \n",
       "4       0.000000                      0.000000   \n",
       "\n",
       "   Packet Delay Budget(Latency(ms))  Bandwidth(GHz)  Delay Rate(Mbps)  \\\n",
       "0                          1.000000        0.032258          1.000000   \n",
       "1                          0.122449        0.290323          0.081395   \n",
       "2                          0.918367        0.290323          0.034884   \n",
       "3                          0.224490        0.677419          0.034884   \n",
       "4                          0.979592        1.000000          0.081395   \n",
       "\n",
       "   Speed(Mbps)  Jitter(ps)  User Device Type  Modulation Type  \n",
       "0     0.349610    0.510791                 8                0  \n",
       "1     0.880298    0.539568                 8                0  \n",
       "2     0.939301    0.827338                 8                0  \n",
       "3     0.275687    1.000000                 8                0  \n",
       "4     0.642252    0.366906                 8                0  "
      ]
     },
     "execution_count": 3,
     "metadata": {},
     "output_type": "execute_result"
    }
   ],
   "source": [
    "x.head()"
   ]
  },
  {
   "cell_type": "code",
   "execution_count": 4,
   "metadata": {},
   "outputs": [
    {
     "data": {
      "text/html": [
       "<div>\n",
       "<style scoped>\n",
       "    .dataframe tbody tr th:only-of-type {\n",
       "        vertical-align: middle;\n",
       "    }\n",
       "\n",
       "    .dataframe tbody tr th {\n",
       "        vertical-align: top;\n",
       "    }\n",
       "\n",
       "    .dataframe thead th {\n",
       "        text-align: right;\n",
       "    }\n",
       "</style>\n",
       "<table border=\"1\" class=\"dataframe\">\n",
       "  <thead>\n",
       "    <tr style=\"text-align: right;\">\n",
       "      <th></th>\n",
       "      <th>Slice Type</th>\n",
       "    </tr>\n",
       "  </thead>\n",
       "  <tbody>\n",
       "    <tr>\n",
       "      <th>0</th>\n",
       "      <td>1</td>\n",
       "    </tr>\n",
       "    <tr>\n",
       "      <th>1</th>\n",
       "      <td>1</td>\n",
       "    </tr>\n",
       "    <tr>\n",
       "      <th>2</th>\n",
       "      <td>1</td>\n",
       "    </tr>\n",
       "    <tr>\n",
       "      <th>3</th>\n",
       "      <td>1</td>\n",
       "    </tr>\n",
       "    <tr>\n",
       "      <th>4</th>\n",
       "      <td>1</td>\n",
       "    </tr>\n",
       "  </tbody>\n",
       "</table>\n",
       "</div>"
      ],
      "text/plain": [
       "   Slice Type\n",
       "0           1\n",
       "1           1\n",
       "2           1\n",
       "3           1\n",
       "4           1"
      ]
     },
     "execution_count": 4,
     "metadata": {},
     "output_type": "execute_result"
    }
   ],
   "source": [
    "y.head()"
   ]
  },
  {
   "cell_type": "code",
   "execution_count": 5,
   "metadata": {},
   "outputs": [
    {
     "name": "stdout",
     "output_type": "stream",
     "text": [
      "Shape of X_train= (2100, 9)\n",
      "Shape of X_test= (900, 9)\n",
      "Shape of y_train= (2100, 1)\n",
      "Shape of y_test= (900, 1)\n"
     ]
    }
   ],
   "source": [
    "X_train, X_test, y_train, y_test = tts(x, y, test_size=0.30, random_state=10)\n",
    "print('Shape of X_train=',X_train.shape)\n",
    "print('Shape of X_test=',X_test.shape)\n",
    "print('Shape of y_train=',y_train.shape)\n",
    "print('Shape of y_test=',y_test.shape)"
   ]
  },
  {
   "cell_type": "markdown",
   "metadata": {},
   "source": [
    "# XGBoost"
   ]
  },
  {
   "cell_type": "code",
   "execution_count": 7,
   "metadata": {},
   "outputs": [],
   "source": [
    "\n",
    "import xgboost as xgb\n",
    "from xgboost import XGBClassifier\n",
    "from sklearn.metrics import accuracy_score"
   ]
  },
  {
   "cell_type": "code",
   "execution_count": 8,
   "metadata": {},
   "outputs": [
    {
     "name": "stdout",
     "output_type": "stream",
     "text": [
      "[14:02:59] WARNING: C:/Users/Administrator/workspace/xgboost-win64_release_1.5.1/src/learner.cc:1115: Starting in XGBoost 1.3.0, the default evaluation metric used with the objective 'multi:softmax' was changed from 'merror' to 'mlogloss'. Explicitly set eval_metric if you'd like to restore the old behavior.\n",
      "[0]\ttrain-mlogloss:4.33631\ttest-mlogloss:4.33603\n",
      "[1]\ttrain-mlogloss:4.31636\ttest-mlogloss:4.31580\n",
      "[2]\ttrain-mlogloss:4.29683\ttest-mlogloss:4.29601\n",
      "[3]\ttrain-mlogloss:4.27770\ttest-mlogloss:4.27664\n",
      "[4]\ttrain-mlogloss:4.25896\ttest-mlogloss:4.25767\n",
      "[5]\ttrain-mlogloss:4.24060\ttest-mlogloss:4.23909\n",
      "[6]\ttrain-mlogloss:4.22259\ttest-mlogloss:4.22087\n",
      "[7]\ttrain-mlogloss:4.20493\ttest-mlogloss:4.20301\n",
      "[8]\ttrain-mlogloss:4.18759\ttest-mlogloss:4.18548\n",
      "[9]\ttrain-mlogloss:4.17057\ttest-mlogloss:4.16829\n",
      "[10]\ttrain-mlogloss:4.15386\ttest-mlogloss:4.15141\n",
      "[11]\ttrain-mlogloss:4.13744\ttest-mlogloss:4.13483\n",
      "[12]\ttrain-mlogloss:4.12131\ttest-mlogloss:4.11854\n",
      "[13]\ttrain-mlogloss:4.10545\ttest-mlogloss:4.10254\n",
      "[14]\ttrain-mlogloss:4.08984\ttest-mlogloss:4.08681\n",
      "[15]\ttrain-mlogloss:4.07451\ttest-mlogloss:4.07132\n",
      "[16]\ttrain-mlogloss:4.05941\ttest-mlogloss:4.05611\n",
      "[17]\ttrain-mlogloss:4.04454\ttest-mlogloss:4.04114\n",
      "[18]\ttrain-mlogloss:4.02992\ttest-mlogloss:4.02639\n",
      "[19]\ttrain-mlogloss:4.01551\ttest-mlogloss:4.01189\n",
      "[20]\ttrain-mlogloss:4.00134\ttest-mlogloss:3.99758\n",
      "[21]\ttrain-mlogloss:3.98735\ttest-mlogloss:3.98350\n",
      "[22]\ttrain-mlogloss:3.97359\ttest-mlogloss:3.96962\n",
      "[23]\ttrain-mlogloss:3.96001\ttest-mlogloss:3.95596\n",
      "[24]\ttrain-mlogloss:3.94663\ttest-mlogloss:3.94250\n",
      "[25]\ttrain-mlogloss:3.93345\ttest-mlogloss:3.92921\n",
      "[26]\ttrain-mlogloss:3.92041\ttest-mlogloss:3.91610\n",
      "[27]\ttrain-mlogloss:3.90756\ttest-mlogloss:3.90314\n",
      "[28]\ttrain-mlogloss:3.89486\ttest-mlogloss:3.89041\n",
      "[29]\ttrain-mlogloss:3.88235\ttest-mlogloss:3.87782\n",
      "[30]\ttrain-mlogloss:3.86999\ttest-mlogloss:3.86540\n",
      "[31]\ttrain-mlogloss:3.85779\ttest-mlogloss:3.85314\n",
      "[32]\ttrain-mlogloss:3.84574\ttest-mlogloss:3.84105\n",
      "[33]\ttrain-mlogloss:3.83384\ttest-mlogloss:3.82913\n",
      "[34]\ttrain-mlogloss:3.82210\ttest-mlogloss:3.81732\n",
      "[35]\ttrain-mlogloss:3.81048\ttest-mlogloss:3.80569\n",
      "[36]\ttrain-mlogloss:3.79902\ttest-mlogloss:3.79418\n",
      "[37]\ttrain-mlogloss:3.78770\ttest-mlogloss:3.78283\n",
      "[38]\ttrain-mlogloss:3.77650\ttest-mlogloss:3.77160\n",
      "[39]\ttrain-mlogloss:3.76543\ttest-mlogloss:3.76050\n",
      "[40]\ttrain-mlogloss:3.75448\ttest-mlogloss:3.74954\n",
      "[41]\ttrain-mlogloss:3.74366\ttest-mlogloss:3.73873\n",
      "[42]\ttrain-mlogloss:3.73297\ttest-mlogloss:3.72801\n",
      "[43]\ttrain-mlogloss:3.72238\ttest-mlogloss:3.71742\n",
      "[44]\ttrain-mlogloss:3.71192\ttest-mlogloss:3.70694\n",
      "[45]\ttrain-mlogloss:3.70157\ttest-mlogloss:3.69659\n",
      "[46]\ttrain-mlogloss:3.69134\ttest-mlogloss:3.68635\n",
      "[47]\ttrain-mlogloss:3.68120\ttest-mlogloss:3.67622\n",
      "[48]\ttrain-mlogloss:3.67116\ttest-mlogloss:3.66619\n",
      "[49]\ttrain-mlogloss:3.66125\ttest-mlogloss:3.65623\n",
      "[50]\ttrain-mlogloss:3.65143\ttest-mlogloss:3.64639\n",
      "[51]\ttrain-mlogloss:3.64171\ttest-mlogloss:3.63668\n",
      "[52]\ttrain-mlogloss:3.63210\ttest-mlogloss:3.62709\n",
      "[53]\ttrain-mlogloss:3.62258\ttest-mlogloss:3.61754\n",
      "[54]\ttrain-mlogloss:3.61314\ttest-mlogloss:3.60810\n",
      "[55]\ttrain-mlogloss:3.60378\ttest-mlogloss:3.59882\n",
      "[56]\ttrain-mlogloss:3.59452\ttest-mlogloss:3.58961\n",
      "[57]\ttrain-mlogloss:3.58534\ttest-mlogloss:3.58049\n",
      "[58]\ttrain-mlogloss:3.57626\ttest-mlogloss:3.57144\n",
      "[59]\ttrain-mlogloss:3.56725\ttest-mlogloss:3.56253\n",
      "[60]\ttrain-mlogloss:3.55833\ttest-mlogloss:3.55365\n",
      "[61]\ttrain-mlogloss:3.54949\ttest-mlogloss:3.54490\n",
      "[62]\ttrain-mlogloss:3.54073\ttest-mlogloss:3.53619\n",
      "[63]\ttrain-mlogloss:3.53206\ttest-mlogloss:3.52757\n",
      "[64]\ttrain-mlogloss:3.52346\ttest-mlogloss:3.51902\n",
      "[65]\ttrain-mlogloss:3.51493\ttest-mlogloss:3.51058\n",
      "[66]\ttrain-mlogloss:3.50649\ttest-mlogloss:3.50225\n",
      "[67]\ttrain-mlogloss:3.49812\ttest-mlogloss:3.49393\n",
      "[68]\ttrain-mlogloss:3.48982\ttest-mlogloss:3.48573\n",
      "[69]\ttrain-mlogloss:3.48160\ttest-mlogloss:3.47761\n",
      "[70]\ttrain-mlogloss:3.47343\ttest-mlogloss:3.46952\n",
      "[71]\ttrain-mlogloss:3.46534\ttest-mlogloss:3.46154\n",
      "[72]\ttrain-mlogloss:3.45732\ttest-mlogloss:3.45357\n",
      "[73]\ttrain-mlogloss:3.44938\ttest-mlogloss:3.44570\n",
      "[74]\ttrain-mlogloss:3.44148\ttest-mlogloss:3.43791\n",
      "[75]\ttrain-mlogloss:3.43364\ttest-mlogloss:3.43015\n",
      "[76]\ttrain-mlogloss:3.42588\ttest-mlogloss:3.42248\n",
      "[77]\ttrain-mlogloss:3.41819\ttest-mlogloss:3.41485\n",
      "[78]\ttrain-mlogloss:3.41049\ttest-mlogloss:3.40725\n",
      "[79]\ttrain-mlogloss:3.40286\ttest-mlogloss:3.39972\n",
      "[80]\ttrain-mlogloss:3.39527\ttest-mlogloss:3.39226\n",
      "[81]\ttrain-mlogloss:3.38777\ttest-mlogloss:3.38486\n",
      "[82]\ttrain-mlogloss:3.38031\ttest-mlogloss:3.37751\n",
      "[83]\ttrain-mlogloss:3.37291\ttest-mlogloss:3.37018\n",
      "[84]\ttrain-mlogloss:3.36561\ttest-mlogloss:3.36300\n",
      "[85]\ttrain-mlogloss:3.35832\ttest-mlogloss:3.35582\n",
      "[86]\ttrain-mlogloss:3.35108\ttest-mlogloss:3.34868\n",
      "[87]\ttrain-mlogloss:3.34390\ttest-mlogloss:3.34161\n",
      "[88]\ttrain-mlogloss:3.33677\ttest-mlogloss:3.33457\n",
      "[89]\ttrain-mlogloss:3.32969\ttest-mlogloss:3.32761\n",
      "[90]\ttrain-mlogloss:3.32266\ttest-mlogloss:3.32070\n",
      "[91]\ttrain-mlogloss:3.31569\ttest-mlogloss:3.31382\n",
      "[92]\ttrain-mlogloss:3.30878\ttest-mlogloss:3.30705\n",
      "[93]\ttrain-mlogloss:3.30190\ttest-mlogloss:3.30025\n",
      "[94]\ttrain-mlogloss:3.29508\ttest-mlogloss:3.29354\n",
      "[95]\ttrain-mlogloss:3.28831\ttest-mlogloss:3.28687\n",
      "[96]\ttrain-mlogloss:3.28156\ttest-mlogloss:3.28023\n",
      "[97]\ttrain-mlogloss:3.27489\ttest-mlogloss:3.27369\n",
      "[98]\ttrain-mlogloss:3.26825\ttest-mlogloss:3.26714\n",
      "[99]\ttrain-mlogloss:3.26165\ttest-mlogloss:3.26066\n",
      "0.7176190476190476\n",
      "0.74\n"
     ]
    }
   ],
   "source": [
    "# read in data\n",
    "dtrain = xgb.DMatrix(X_train, label=y_train)\n",
    "dtest = xgb.DMatrix(X_test, label=y_test)\n",
    "# specify parameters via map\n",
    "param = {'max_depth':20, 'eta':0.001, 'objective': 'multi:softmax', 'num_class':78, 'tree_method': 'gpu_hist' }\n",
    "num_round = 100\n",
    "watchlist = [(dtrain, 'train'), (dtest, 'test')]\n",
    "bst = xgb.train(param, dtrain, num_round, watchlist)\n",
    "# make prediction\n",
    "preds_test = bst.predict(dtest)\n",
    "preds_train = bst.predict(dtrain)\n",
    "print(accuracy_score(y_train, preds_train))\n",
    "print(accuracy_score(y_test, preds_test))"
   ]
  },
  {
   "cell_type": "code",
   "execution_count": 9,
   "metadata": {},
   "outputs": [],
   "source": [
    "# read in data\n",
    "dmatrix = xgb.DMatrix(x, label=y)\n",
    "# specify parameters via map\n",
    "param = {'max_depth':10, 'eta':0.001, 'objective': 'multi:softmax', 'num_class':78, 'tree_method': 'gpu_hist', }\n",
    "num_round = 100\n",
    "watchlist = [(dtrain, 'train'), (dtest, 'test')]\n",
    "bst = xgb.cv(params=param, dtrain=dtrain, nfold=10, metrics={'merror'}, as_pandas=True)"
   ]
  },
  {
   "cell_type": "code",
   "execution_count": 10,
   "metadata": {},
   "outputs": [
    {
     "data": {
      "text/html": [
       "<div>\n",
       "<style scoped>\n",
       "    .dataframe tbody tr th:only-of-type {\n",
       "        vertical-align: middle;\n",
       "    }\n",
       "\n",
       "    .dataframe tbody tr th {\n",
       "        vertical-align: top;\n",
       "    }\n",
       "\n",
       "    .dataframe thead th {\n",
       "        text-align: right;\n",
       "    }\n",
       "</style>\n",
       "<table border=\"1\" class=\"dataframe\">\n",
       "  <thead>\n",
       "    <tr style=\"text-align: right;\">\n",
       "      <th></th>\n",
       "      <th>train-merror-mean</th>\n",
       "      <th>train-merror-std</th>\n",
       "      <th>test-merror-mean</th>\n",
       "      <th>test-merror-std</th>\n",
       "    </tr>\n",
       "  </thead>\n",
       "  <tbody>\n",
       "    <tr>\n",
       "      <th>0</th>\n",
       "      <td>0.285873</td>\n",
       "      <td>0.003236</td>\n",
       "      <td>0.286667</td>\n",
       "      <td>0.026238</td>\n",
       "    </tr>\n",
       "    <tr>\n",
       "      <th>1</th>\n",
       "      <td>0.285873</td>\n",
       "      <td>0.003236</td>\n",
       "      <td>0.286667</td>\n",
       "      <td>0.026238</td>\n",
       "    </tr>\n",
       "    <tr>\n",
       "      <th>2</th>\n",
       "      <td>0.285926</td>\n",
       "      <td>0.003159</td>\n",
       "      <td>0.286667</td>\n",
       "      <td>0.026238</td>\n",
       "    </tr>\n",
       "    <tr>\n",
       "      <th>3</th>\n",
       "      <td>0.286085</td>\n",
       "      <td>0.002965</td>\n",
       "      <td>0.286190</td>\n",
       "      <td>0.025859</td>\n",
       "    </tr>\n",
       "    <tr>\n",
       "      <th>4</th>\n",
       "      <td>0.286085</td>\n",
       "      <td>0.002965</td>\n",
       "      <td>0.286190</td>\n",
       "      <td>0.025859</td>\n",
       "    </tr>\n",
       "    <tr>\n",
       "      <th>5</th>\n",
       "      <td>0.286085</td>\n",
       "      <td>0.002965</td>\n",
       "      <td>0.286190</td>\n",
       "      <td>0.025859</td>\n",
       "    </tr>\n",
       "    <tr>\n",
       "      <th>6</th>\n",
       "      <td>0.286085</td>\n",
       "      <td>0.002965</td>\n",
       "      <td>0.286190</td>\n",
       "      <td>0.025859</td>\n",
       "    </tr>\n",
       "    <tr>\n",
       "      <th>7</th>\n",
       "      <td>0.286085</td>\n",
       "      <td>0.002965</td>\n",
       "      <td>0.286190</td>\n",
       "      <td>0.025859</td>\n",
       "    </tr>\n",
       "    <tr>\n",
       "      <th>8</th>\n",
       "      <td>0.286085</td>\n",
       "      <td>0.002965</td>\n",
       "      <td>0.286190</td>\n",
       "      <td>0.025859</td>\n",
       "    </tr>\n",
       "    <tr>\n",
       "      <th>9</th>\n",
       "      <td>0.286085</td>\n",
       "      <td>0.002965</td>\n",
       "      <td>0.286190</td>\n",
       "      <td>0.025859</td>\n",
       "    </tr>\n",
       "  </tbody>\n",
       "</table>\n",
       "</div>"
      ],
      "text/plain": [
       "   train-merror-mean  train-merror-std  test-merror-mean  test-merror-std\n",
       "0           0.285873          0.003236          0.286667         0.026238\n",
       "1           0.285873          0.003236          0.286667         0.026238\n",
       "2           0.285926          0.003159          0.286667         0.026238\n",
       "3           0.286085          0.002965          0.286190         0.025859\n",
       "4           0.286085          0.002965          0.286190         0.025859\n",
       "5           0.286085          0.002965          0.286190         0.025859\n",
       "6           0.286085          0.002965          0.286190         0.025859\n",
       "7           0.286085          0.002965          0.286190         0.025859\n",
       "8           0.286085          0.002965          0.286190         0.025859\n",
       "9           0.286085          0.002965          0.286190         0.025859"
      ]
     },
     "execution_count": 10,
     "metadata": {},
     "output_type": "execute_result"
    }
   ],
   "source": [
    "bst"
   ]
  },
  {
   "cell_type": "code",
   "execution_count": 11,
   "metadata": {},
   "outputs": [],
   "source": [
    "from sklearn.model_selection import GridSearchCV"
   ]
  },
  {
   "cell_type": "code",
   "execution_count": 12,
   "metadata": {},
   "outputs": [
    {
     "name": "stdout",
     "output_type": "stream",
     "text": [
      "Shape of X_train= (2100, 9)\n",
      "Shape of X_test= (900, 9)\n",
      "Shape of y_train= (2100, 1)\n",
      "Shape of y_test= (900, 1)\n"
     ]
    }
   ],
   "source": [
    "X_train, X_test, y_train, y_test = tts(x, y, test_size=0.30, random_state=10)\n",
    "print('Shape of X_train=',X_train.shape)\n",
    "print('Shape of X_test=',X_test.shape)\n",
    "print('Shape of y_train=',y_train.shape)\n",
    "print('Shape of y_test=',y_test.shape)"
   ]
  },
  {
   "cell_type": "code",
   "execution_count": 13,
   "metadata": {},
   "outputs": [],
   "source": [
    "#XGBoost hyper-parameter tuning\n",
    "def hyperParameterTuning(X_train, y_train):\n",
    "    param_tuning = {\n",
    "        'learning_rate': [0.001, 0.005, 0.01, 0.05, 0.1],\n",
    "        'max_depth': [3, 5, 7, 10, 15, 20],\n",
    "        'min_child_weight': [1, 3, 5, 7],\n",
    "        'subsample': [0.3, 0.5, 0.7],\n",
    "        'colsample_bytree': [0.3, 0.5, 0.7],\n",
    "        'n_estimators' : [100, 200, 500, 1000],\n",
    "        'objective': ['multi:softmax'],\n",
    "        'tree_method': ['gpu_hist']\n",
    "    }\n",
    "\n",
    "    xgb_model = XGBClassifier()\n",
    "\n",
    "    gsearch = GridSearchCV(estimator = xgb_model,\n",
    "                           param_grid = param_tuning,                        \n",
    "                           #scoring = 'neg_mean_absolute_error', #MAE\n",
    "                           #scoring = 'neg_mean_squared_error',  #MSE\n",
    "                           cv = 5,\n",
    "                           n_jobs = -1,\n",
    "                           verbose = 1)\n",
    "\n",
    "    gsearch.fit(X_train,y_train)\n",
    "\n",
    "    return gsearch.best_params_"
   ]
  },
  {
   "cell_type": "code",
   "execution_count": 14,
   "metadata": {},
   "outputs": [
    {
     "name": "stdout",
     "output_type": "stream",
     "text": [
      "Fitting 5 folds for each of 4320 candidates, totalling 21600 fits\n"
     ]
    }
   ],
   "source": [
    "hyperParameterTuning(X_train, y_train)"
   ]
  },
  {
   "cell_type": "code",
   "execution_count": 35,
   "metadata": {},
   "outputs": [
    {
     "name": "stdout",
     "output_type": "stream",
     "text": [
      "[21:13:10] WARNING: C:/Users/Administrator/workspace/xgboost-win64_release_1.5.1/src/learner.cc:1115: Starting in XGBoost 1.3.0, the default evaluation metric used with the objective 'multi:softmax' was changed from 'merror' to 'mlogloss'. Explicitly set eval_metric if you'd like to restore the old behavior.\n",
      "0.7203333333333334\n"
     ]
    }
   ],
   "source": [
    "params = {'colsample_bytree': 0.7,\n",
    "        'learning_rate': 0.01,\n",
    "        'max_depth': 3,\n",
    "        'min_child_weight': 1,\n",
    "        'n_estimators': 500,\n",
    "        'objective': 'multi:softmax',\n",
    "        'subsample': 0.5,\n",
    "        'tree_method': 'gpu_hist'}\n",
    "\n",
    "# read in data\n",
    "dmatrix = xgb.DMatrix(x, label=y)\n",
    "num_round = 100\n",
    "bst = xgb.train(param, dmatrix)\n",
    "# make prediction\n",
    "preds = bst.predict(dmatrix)\n",
    "print(accuracy_score(y, preds))"
   ]
  },
  {
   "cell_type": "code",
   "execution_count": null,
   "metadata": {},
   "outputs": [],
   "source": []
  }
 ],
 "metadata": {
  "interpreter": {
   "hash": "3f1af2f246daa54760268785cc37d3e760c0654a6af665420a07030e285142b3"
  },
  "kernelspec": {
   "display_name": "Python 3.9.7 64-bit ('IPAnalysis-39': conda)",
   "language": "python",
   "name": "python3"
  },
  "language_info": {
   "codemirror_mode": {
    "name": "ipython",
    "version": 3
   },
   "file_extension": ".py",
   "mimetype": "text/x-python",
   "name": "python",
   "nbconvert_exporter": "python",
   "pygments_lexer": "ipython3",
   "version": "3.9.7"
  },
  "orig_nbformat": 4
 },
 "nbformat": 4,
 "nbformat_minor": 2
}
